{
 "cells": [
  {
   "cell_type": "code",
   "execution_count": 1,
   "metadata": {},
   "outputs": [],
   "source": [
    "import gru2\n",
    "import torch\n",
    "import torch.nn as nn\n",
    "import torchvision.transforms as transforms\n",
    "import torchvision.datasets as dsets\n",
    "from torch.autograd import Variable\n",
    "from torch.nn import Parameter\n",
    "from torch import Tensor\n",
    "import torch.nn.functional as F\n",
    "from utils import *\n",
    "import matplotlib.pyplot as plt\n",
    "import math\n",
    "\n",
    "batch_size = 32\n",
    "n_iters = 6000\n",
    "# num_epochs = n_iters / (len(train_dataset) / batch_size)\n",
    "# num_epochs = int(num_epochs)\n",
    "num_epochs = 20\n",
    "\n",
    "input_dim_cnn = 20\n",
    "input_dim = 36 #12\n",
    "hidden_dim = 128\n",
    "layer_dim = 1  \n",
    "output_dim = 3\n",
    "seq_dim = 20\n",
    "\n",
    "# model = LSTMModel(input_dim, hidden_dim, layer_dim, output_dim)\n",
    "model = gru2.GRUDModel(input_dim_cnn, input_dim, hidden_dim, layer_dim, output_dim)\n",
    "\n",
    "if torch.cuda.is_available():\n",
    "    model.cuda()\n",
    "    \n",
    "# loss function and optimizer\n",
    "# criterion = nn.MSELoss()  # regression\n",
    "criterion = nn.CrossEntropyLoss()  # classification (包含softmax)\n",
    "optimizer = torch.optim.Adam(model.parameters(), lr=1e-5)\n",
    "\n",
    "train_loss_list = []\n",
    "val_loss_list = []"
   ]
  },
  {
   "cell_type": "code",
   "execution_count": 2,
   "metadata": {},
   "outputs": [],
   "source": [
    "def test(data, X_data, Y_data, model, batch_size):\n",
    "    model.eval()\n",
    "    total_loss = 0\n",
    "    n_samples = 0\n",
    "    predict = None\n",
    "    test = None\n",
    "    predict_list = None\n",
    "    test_list = None\n",
    "    for X, Y in data.get_batches(X_data, Y_data, batch_size, False):\n",
    "        output = model(X[:,:, input_dim*3:], X[:,:,:input_dim], X[:,:,input_dim:input_dim*2], X[:,:,input_dim*2:input_dim*3])\n",
    "        if predict is None:\n",
    "            predict = output\n",
    "            test = Y\n",
    "        else:\n",
    "            predict = torch.cat((predict, output))\n",
    "            test = torch.cat((test, Y))\n",
    "    \n",
    "#     print(test.shape,predict.shape)\n",
    "#     x_axis = [x+1 for x in range(len(predict))]\n",
    "#     plt.plot(x_axis,predict.cpu().detach().numpy() ,x_axis,test.cpu().detach().numpy() )\n",
    "#     plt.show()\n",
    "    predict = [x.index(max(x)) for x in predict.tolist()]\n",
    "    result = {0:[0,0],1:[0,0],2:[0,0]}\n",
    "    test = test.tolist()\n",
    "    for i in range(len(predict)):\n",
    "        if test[i][0] == predict[i]:\n",
    "            result[test[i][0]][1] += 1\n",
    "        result[test[i][0]][0] += 1\n",
    "    print(result)\n",
    "    "
   ]
  },
  {
   "cell_type": "code",
   "execution_count": 3,
   "metadata": {},
   "outputs": [],
   "source": [
    "def loss_graph():\n",
    "    x_axis = [x+1 for x in range(len(train_loss_list))]\n",
    "    plt.plot(x_axis,train_loss_list,x_axis,val_loss_list)\n",
    "    plt.show()"
   ]
  },
  {
   "cell_type": "code",
   "execution_count": 4,
   "metadata": {},
   "outputs": [],
   "source": [
    "def evaluate(data, X_data, Y_data, model, criterion, batch_size):\n",
    "    model.eval()\n",
    "    total_loss = 0\n",
    "    n_samples = 0\n",
    "    predict = None\n",
    "    test = None\n",
    "    for X, Y in data.get_batches(X_data, Y_data, batch_size, False):\n",
    "        output = model(X[:,:, input_dim*3:], X[:,:,:input_dim], X[:,:,input_dim:input_dim*2], X[:,:,input_dim*2:input_dim*3])\n",
    "        if predict is None:\n",
    "            predict = output\n",
    "            test = Y\n",
    "        else:\n",
    "            predict = torch.cat((predict, output))\n",
    "            test = torch.cat((test, Y))\n",
    "        \n",
    "        # Y = torch.tensor(Y, dtype=torch.long).clone().cuda().squeeze()\n",
    "        Y = Y.long().resize(Y.size()[0])\n",
    "        total_loss += float(criterion(output, Y))\n",
    "        # n_samples += (output.size(0) * data.m)\n",
    "        n_samples += (output.size(0) * 1)\n",
    "    val_loss_list.append(total_loss / n_samples)\n",
    "    return total_loss/n_samples"
   ]
  },
  {
   "cell_type": "code",
   "execution_count": 5,
   "metadata": {},
   "outputs": [],
   "source": [
    "def train(data, X_data, Y_data, model, criterion, optim, batch_size):\n",
    "    model.train()\n",
    "    total_loss = 0\n",
    "    n_samples = 0\n",
    "    for X, Y in data.get_batches(X_data, Y_data, batch_size, True):\n",
    "        model.zero_grad()\n",
    "        output = model(X[:,:, input_dim*3:], X[:,:,:input_dim], X[:,:,input_dim:input_dim*2], X[:,:,input_dim*2:input_dim*3])\n",
    "\n",
    "        # Y = torch.as_tensor(Y, dtype=torch.long).cuda().squeeze()\n",
    "#         print(output.shape,Y.shape)\n",
    "        # print(output,Y)\n",
    "        Y = Y.long().resize(Y.size()[0])\n",
    "        loss = criterion(output, Y)\n",
    "        loss.backward()\n",
    "        optim.step()\n",
    "        total_loss += float(loss.data)  # adjust\n",
    "        n_samples += (output.size(0) * 1)\n",
    "    train_loss_list.append(total_loss / n_samples)\n",
    "    return total_loss / n_samples"
   ]
  },
  {
   "cell_type": "code",
   "execution_count": 8,
   "metadata": {},
   "outputs": [
    {
     "name": "stdout",
     "output_type": "stream",
     "text": [
      "(26390, 129)\n",
      "1 0.03426129752163838 0.034308301223949955\n",
      "2 0.03425942358972457 0.03431245255199346\n",
      "3 0.03425735973068458 0.03431147201494737\n",
      "4 0.034256689622005586 0.034309891963546925\n",
      "5 0.03425493214036922 0.034312371679327706\n",
      "6 0.03425286822687504 0.034315018274567344\n",
      "7 0.03425115843803019 0.03430626186457547\n",
      "8 0.03424928015885718 0.034308845576914875\n",
      "9 0.034248156673698585 0.03430664544755762\n",
      "10 0.03424536232990051 0.03431879498741843\n",
      "11 0.0342436317123294 0.03431198546832258\n",
      "12 0.034243364283282535 0.03431283862753348\n",
      "13 0.034241389229944734 0.034311881295659326\n",
      "14 0.034239342437754304 0.034317361983385954\n",
      "15 0.0342385957438001 0.034317971495064825\n",
      "16 0.03423564635532003 0.03433400064706802\n",
      "17 0.034236229019651496 0.0343095101416111\n",
      "18 0.03423361887621435 0.03430494118820537\n",
      "19 0.03422991649524586 0.034313543167981235\n",
      "20 0.034230461731399923 0.0343188752098517\n"
     ]
    },
    {
     "data": {
      "image/png": "[encoded data removed]",
      "text/plain": [
       "<Figure size 432x288 with 1 Axes>"
      ]
     },
     "metadata": {
      "needs_background": "light"
     },
     "output_type": "display_data"
    },
    {
     "name": "stdout",
     "output_type": "stream",
     "text": [
      "{0: [2860, 1193], 1: [3053, 762], 2: [2887, 1033]}\n"
     ]
    }
   ],
   "source": [
    "Data = Data_utility('./data/stock_company_feature_week.txt', 0.6, 0.2, True, 2, 1)\n",
    "\n",
    "for epoch in range(1,num_epochs+1):\n",
    "#     print(Data.train[0].shape,Data.train[1].shape)\n",
    "    train_loss = train(Data, Data.train[0], Data.train[1], model, criterion, optimizer, batch_size)\n",
    "    val_loss = evaluate(Data, Data.valid[0], Data.\n",
    "                        valid[1], model, criterion, batch_size)\n",
    "#     if epoch % 10 == 0:\n",
    "    print(epoch,train_loss,val_loss)\n",
    "loss_graph()\n",
    "test(Data, Data.valid[0], Data.valid[1], model, batch_size)\n",
    "# test_loss = evaluate(Data, Data.test[0], Data.test[1], model, criterion, batch_size)\n",
    "# print(test_loss)\n",
    "\n",
    "\n"
   ]
  },
  {
   "cell_type": "code",
   "execution_count": 9,
   "metadata": {},
   "outputs": [
    {
     "name": "stdout",
     "output_type": "stream",
     "text": [
      "{0: [2957, 1152], 1: [2839, 819], 2: [3004, 1091]}\n"
     ]
    }
   ],
   "source": [
    "test(Data, Data.test[0], Data.test[1], model, batch_size)"
   ]
  }
 ],
 "metadata": {
  "kernelspec": {
   "display_name": "Python 3",
   "language": "python",
   "name": "python3"
  },
  "language_info": {
   "codemirror_mode": {
    "name": "ipython",
    "version": 3
   },
   "file_extension": ".py",
   "mimetype": "text/x-python",
   "name": "python",
   "nbconvert_exporter": "python",
   "pygments_lexer": "ipython3",
   "version": "3.6.9"
  }
 },
 "nbformat": 4,
 "nbformat_minor": 4
}
