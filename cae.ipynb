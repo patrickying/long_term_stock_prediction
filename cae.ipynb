{
 "cells": [
  {
   "cell_type": "code",
   "execution_count": 2,
   "metadata": {
    "scrolled": true
   },
   "outputs": [
    {
     "data": {
      "text/plain": [
       "<Figure size 1296x1296 with 0 Axes>"
      ]
     },
     "metadata": {},
     "output_type": "display_data"
    }
   ],
   "source": [
    "import sys\n",
    "import os\n",
    "import data.build_graph\n",
    "import numpy as np\n",
    "import torch\n",
    "import torch\n",
    "import torchvision\n",
    "from torch import nn\n",
    "from torch.autograd import Variable\n",
    "from torch.utils.data import DataLoader\n",
    "from torchvision import transforms\n",
    "from torchvision.utils import save_image\n",
    "from torchvision.datasets import MNIST\n",
    "import os\n",
    "\n",
    "num_epochs = 150\n",
    "batch_size = 32\n",
    "learning_rate = 1e-3\n",
    "\n",
    "\n",
    "class autoencoder(nn.Module):\n",
    "    def __init__(self):\n",
    "        super(autoencoder, self).__init__()\n",
    "        self.encoder = nn.Sequential(\n",
    "            nn.Conv2d(1, 8, 2, stride=1, padding=1),  # b, 8, 12, 12\n",
    "            nn.ReLU(True),\n",
    "            nn.MaxPool2d(2, stride=2),  # b, 8, 6, 6\n",
    "            nn.Conv2d(8, 16, 2, stride=1, padding=1),  # b, 16, 7,7\n",
    "            nn.ReLU(True),\n",
    "            nn.MaxPool2d(2, stride=2),  # b, 8, 3, 3\n",
    "            nn.Conv2d(16, 32, 2, stride=1, padding=1),  # b, 16, 4,4\n",
    "            nn.ReLU(True),\n",
    "            nn.MaxPool2d(4, stride=4)  # b, 8, 3, 3\n",
    "\n",
    "        )\n",
    "        self.decoder = nn.Sequential(\n",
    "            nn.ConvTranspose2d(32 ,16, 3, stride=1,padding=0),\n",
    "            nn.ReLU(True),\n",
    "            nn.ConvTranspose2d(16, 8, 3, stride=2, padding=1),\n",
    "            nn.ReLU(True),\n",
    "            nn.ConvTranspose2d(8, 1, 5, stride=2, padding=1),\n",
    "            nn.Tanh()\n",
    "        )\n",
    "\n",
    "    def forward(self, x):\n",
    "        x = self.encoder(x)\n",
    "        return x\n",
    "        x = self.decoder(x)\n",
    "#         return x\n",
    "\n",
    "\n",
    "model = autoencoder().cuda()\n",
    "criterion = nn.MSELoss()\n",
    "optimizer = torch.optim.Adam(model.parameters(), lr=learning_rate,\n",
    "                             weight_decay=1e-5)\n",
    "\n",
    "# data\n",
    "pic = data.build_graph.brightness()\n",
    "pic_set = [[x[2]] for x in pic]\n",
    "pic_set = np.array(pic_set)/255\n",
    "data_len = len(pic_set)\n",
    "pic_set = torch.FloatTensor(pic_set)\n",
    "\n",
    "# training \n",
    "# for epoch in range(num_epochs):\n",
    "#     for batch in range(data_len//batch_size):\n",
    "#         img = pic_set[batch_size*batch:batch_size*(batch+1)]\n",
    "\n",
    "#         img = Variable(img).cuda()\n",
    "#         # ===================forward=====================\n",
    "#         output = model(img)\n",
    "#         loss = criterion(output, img)\n",
    "#         # ===================backward====================\n",
    "#         optimizer.zero_grad()\n",
    "#         loss.backward()\n",
    "#         optimizer.step()\n",
    "#     # ===================log========================\n",
    "#     print('epoch [{}/{}], loss:{:.4f}'\n",
    "#           .format(epoch+1, num_epochs, loss.data))\n",
    "#     if epoch % 10 == 9:\n",
    "#         pic = output.cpu().data\n",
    "#         pic = torchvision.utils.make_grid(pic)\n",
    "#         save_image(pic, './data/dc_img/imagenew_{}.png'.format(epoch))\n",
    "#         save_image(img, './data/dc_img/imageold_{}.png'.format(epoch))\n",
    "\n",
    "# torch.save(model.state_dict(), './conv_autoencoder.pth')"
   ]
  },
  {
   "cell_type": "markdown",
   "metadata": {},
   "source": [
    "# 输出图片"
   ]
  },
  {
   "cell_type": "code",
   "execution_count": 2,
   "metadata": {},
   "outputs": [
    {
     "name": "stdout",
     "output_type": "stream",
     "text": [
      "torch.Size([3290, 1, 11, 11])\n"
     ]
    }
   ],
   "source": [
    "from matplotlib import pyplot as plt\n",
    "model.load_state_dict(torch.load('./conv_autoencoder.pth'))\n",
    "model.eval()\n",
    "cnt = 0\n",
    "print(pic_set.shape)\n",
    "result = np.array([])\n",
    "Y = []\n",
    "for batch in range(data_len//batch_size):\n",
    "    img = pic_set[batch_size*batch:batch_size*(batch+1)]\n",
    "    img = Variable(img).cuda()\n",
    "    # ===================forward=====================\n",
    "    output = model(img)\n",
    "    if len(result) == 0:\n",
    "        result = output.cpu().data\n",
    "    else:\n",
    "        result = np.concatenate((result,(output.cpu().data)),0)\n",
    "\n",
    "    \n",
    "# show pic\n",
    "# plt.figure(figsize=(18,18))\n",
    "# for i,pic in enumerate(result[:16]):\n",
    "#     p = pic[0]\n",
    "#     plt.subplot(8, 4, cnt + 1)\n",
    "#     cnt += 1\n",
    "#     plt.imshow(p, cmap='gray')\n",
    "#     plt.subplot(8, 4, cnt + 1)\n",
    "#     cnt += 1\n",
    "#     plt.imshow(pic_set[i][0], cmap='gray')"
   ]
  },
  {
   "cell_type": "markdown",
   "metadata": {},
   "source": [
    "# 输出特征"
   ]
  },
  {
   "cell_type": "code",
   "execution_count": 12,
   "metadata": {},
   "outputs": [
    {
     "name": "stdout",
     "output_type": "stream",
     "text": [
      "(3290, 32) (3290, 3)\n"
     ]
    }
   ],
   "source": [
    "from sklearn.manifold import TSNE\n",
    "import numpy as np\n",
    "from matplotlib import pyplot as plt\n",
    "\n",
    "def company():\n",
    "    model.load_state_dict(torch.load('./conv_autoencoder.pth'))\n",
    "    model.eval()\n",
    "    cnt = 0\n",
    "    result = np.array([])\n",
    "    Y = []\n",
    "    for batch in range(data_len//batch_size + 1):\n",
    "        img = pic_set[batch_size*batch:batch_size*(batch+1)]\n",
    "        img = Variable(img).cuda()\n",
    "        # ===================forward=====================\n",
    "        output = model(img)\n",
    "        if len(result) == 0:\n",
    "            result = output.cpu().data\n",
    "        else:\n",
    "            result = np.concatenate((result,(output.cpu().data)),0)\n",
    "\n",
    "    # show pic\n",
    "    # plt.figure(figsize=(18,18))\n",
    "    # for i,pic in enumerate(result[:16]):\n",
    "    #     p = pic[0]\n",
    "    #     plt.subplot(8, 4, cnt + 1)\n",
    "    #     cnt += 1\n",
    "    #     plt.imshow(p, cmap='gray')\n",
    "    #     plt.subplot(8, 4, cnt + 1)\n",
    "    #     cnt += 1\n",
    "    #     plt.imshow(pic_set[i][0], cmap='gray')\n",
    "    result = np.reshape(result,(-1,32))\n",
    "\n",
    "\n",
    "    print(result.shape,np.array(pic).shape)\n",
    "    company_feature = {}\n",
    "    quarter = {'Q1':'-03-','Q2':'-06-','Q3':'-09-','Q4':'-12-'}\n",
    "    for i,x in enumerate(pic):\n",
    "        if x[0] not in company_feature:\n",
    "            company_feature[x[0]] = []\n",
    "            \n",
    "        date_str = x[1][:4] + quarter[x[1][4:]] + '01'\n",
    "#         print(result[i],[date_str])\n",
    "        company_feature[x[0]].append([date_str] + result[i].tolist())\n",
    "\n",
    "    # print(company_feature)\n",
    "    \n",
    "    return company_feature\n",
    "\n",
    "company_feature = company()\n",
    "def company_to_txt(data):\n",
    "\n",
    "    with open('comapny_feature.txt', 'w') as f:\n",
    "        for i2, x in data.items():\n",
    "            for x2 in x:\n",
    "                f.write(i2)\n",
    "                f.write(',')\n",
    "                for i in range(len(x2)):\n",
    "                    f.write(str(x2[i]))\n",
    "                    if i != len(x2)-1:\n",
    "                        f.write(',')\n",
    "                    \n",
    "                f.write('\\n')\n",
    "company_to_txt(company_feature)"
   ]
  },
  {
   "cell_type": "markdown",
   "metadata": {},
   "source": [
    "# 画特征图"
   ]
  },
  {
   "cell_type": "code",
   "execution_count": null,
   "metadata": {},
   "outputs": [],
   "source": [
    "def draw(result):\n",
    "    with open('data/stock-sector.txt','r') as f:\n",
    "        lines = f.read()\n",
    "    lines = lines.split('\\n')\n",
    "    lines = [x.split(',') for x in lines]\n",
    "    stock_sector = {}\n",
    "    sector = {}\n",
    "    for x in lines:\n",
    "        if len(x) >= 2:\n",
    "            stock_sector[x[0]] = x[1]\n",
    "            sector[x[1]] = []\n",
    "\n",
    "    X = np.array(result)\n",
    "    X_embedded = TSNE(n_components=2).fit_transform(X)\n",
    "\n",
    "    X_embedded_sector = [[]*len(sector)]\n",
    "    for i,x in enumerate(X_embedded):\n",
    "        if pic[i][1] == '2018Q4':\n",
    "            sector[stock_sector[pic[i][0]]].append(x)\n",
    "\n",
    "    color_cnt = 20\n",
    "    axis_x,axis_y,c = [], [],[]\n",
    "    for key,value in sector.items():\n",
    "        axis_x += [x[0] for x in value]\n",
    "        axis_y += [x[1] for x in value]\n",
    "        c += ([color_cnt]*len(value))    \n",
    "        color_cnt += 20\n",
    "    plt.scatter(axis_x,axis_y,c=c,cmap='gray')\n",
    "    # print(X_embedded_sector)\n",
    "    # axis_x, axis_y = [x[0] for x in X_embedded], [x[1] for x in X_embedded]\n",
    "    # plt.scatter(axis_x,axis_y)\n",
    "    plt.show()"
   ]
  },
  {
   "cell_type": "code",
   "execution_count": 90,
   "metadata": {},
   "outputs": [
    {
     "name": "stdout",
     "output_type": "stream",
     "text": [
      "Financials\n"
     ]
    }
   ],
   "source": [
    "with open('data/stock-sector.txt','r') as f:\n",
    "    lines = f.read()\n",
    "lines = lines.split('\\n')\n",
    "lines = [x.split(',') for x in lines]\n",
    "stock_sector = {}\n",
    "sector = {}\n",
    "for x in lines:\n",
    "    if len(x) >= 2:\n",
    "        stock_sector[x[0]] = x[1]\n",
    "        sector[x[1]] = []\n",
    "print(stock_sector['BRK-B'])"
   ]
  },
  {
   "cell_type": "code",
   "execution_count": 34,
   "metadata": {},
   "outputs": [
    {
     "name": "stdout",
     "output_type": "stream",
     "text": [
      "torch.Size([20, 1, 5, 5])\n"
     ]
    }
   ],
   "source": [
    "# m = nn.Conv2d(1, 1, 2, stride=1,padding=0)\n",
    "m = nn.MaxPool2d(2, stride=1)\n",
    "\n",
    "input = torch.randn(20, 1, 6, 6)\n",
    "output = m(input)\n",
    "print(output.shape)"
   ]
  }
 ],
 "metadata": {
  "kernelspec": {
   "display_name": "Python 3",
   "language": "python",
   "name": "python3"
  },
  "language_info": {
   "codemirror_mode": {
    "name": "ipython",
    "version": 3
   },
   "file_extension": ".py",
   "mimetype": "text/x-python",
   "name": "python",
   "nbconvert_exporter": "python",
   "pygments_lexer": "ipython3",
   "version": "3.6.9"
  }
 },
 "nbformat": 4,
 "nbformat_minor": 4
}
