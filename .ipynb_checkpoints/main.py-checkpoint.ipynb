{
 "cells": [
  {
   "cell_type": "code",
   "execution_count": 21,
   "metadata": {},
   "outputs": [],
   "source": [
    "import gru2\n",
    "import torch\n",
    "import torch.nn as nn\n",
    "import torchvision.transforms as transforms\n",
    "import torchvision.datasets as dsets\n",
    "from torch.autograd import Variable\n",
    "from torch.nn import Parameter\n",
    "from torch import Tensor\n",
    "import torch.nn.functional as F\n",
    "from utils import *\n",
    "import matplotlib.pyplot as plt\n",
    "import math\n",
    "\n",
    "batch_size = 64\n",
    "n_iters = 6000\n",
    "# num_epochs = n_iters / (len(train_dataset) / batch_size)\n",
    "# num_epochs = int(num_epochs)\n",
    "num_epochs = 20\n",
    "\n",
    "input_dim_cnn = 20\n",
    "input_dim = 12\n",
    "hidden_dim = 128\n",
    "layer_dim = 1  \n",
    "output_dim = 3\n",
    "seq_dim = 20\n",
    "\n",
    "# model = LSTMModel(input_dim, hidden_dim, layer_dim, output_dim)\n",
    "model = gru2.GRUDModel(input_dim_cnn, input_dim, hidden_dim, layer_dim, output_dim)\n",
    "\n",
    "if torch.cuda.is_available():\n",
    "    model.cuda()\n",
    "    \n",
    "# loss function and optimizer\n",
    "# criterion = nn.MSELoss()  # regression\n",
    "criterion = nn.CrossEntropyLoss()  # classification (包含softmax)\n",
    "optimizer = torch.optim.Adam(model.parameters(), lr=1e-5)\n",
    "\n",
    "train_loss_list = []\n",
    "val_loss_list = []"
   ]
  },
  {
   "cell_type": "code",
   "execution_count": 2,
   "metadata": {},
   "outputs": [],
   "source": [
    "def test(data, X_data, Y_data, model, batch_size):\n",
    "    model.eval()\n",
    "    total_loss = 0\n",
    "    n_samples = 0\n",
    "    predict = None\n",
    "    test = None\n",
    "    predict_list = None\n",
    "    test_list = None\n",
    "    for X, Y in data.get_batches(X_data, Y_data, batch_size, False):\n",
    "        output = model(X[:,:, input_dim*3:], X[:,:,:input_dim], X[:,:,input_dim:input_dim*2], X[:,:,input_dim*2:input_dim*3])\n",
    "        if predict is None:\n",
    "            predict = output\n",
    "            test = Y\n",
    "        else:\n",
    "            predict = torch.cat((predict, output))\n",
    "            test = torch.cat((test, Y))\n",
    "    \n",
    "#     print(test.shape,predict.shape)\n",
    "#     x_axis = [x+1 for x in range(len(predict))]\n",
    "#     plt.plot(x_axis,predict.cpu().detach().numpy() ,x_axis,test.cpu().detach().numpy() )\n",
    "#     plt.show()\n",
    "    predict = [x.index(max(x)) for x in predict.tolist()]\n",
    "    result = {0:[0,0],1:[0,0],2:[0,0]}\n",
    "    test = test.tolist()\n",
    "    for i in range(len(predict)):\n",
    "        if test[i][0] == predict[i]:\n",
    "            result[test[i][0]][1] += 1\n",
    "        result[test[i][0]][0] += 1\n",
    "    print(result)\n",
    "    "
   ]
  },
  {
   "cell_type": "code",
   "execution_count": 3,
   "metadata": {},
   "outputs": [],
   "source": [
    "def loss_graph():\n",
    "    x_axis = [x+1 for x in range(len(train_loss_list))]\n",
    "    plt.plot(x_axis,train_loss_list,x_axis,val_loss_list)\n",
    "    plt.show()"
   ]
  },
  {
   "cell_type": "code",
   "execution_count": 4,
   "metadata": {},
   "outputs": [],
   "source": [
    "def evaluate(data, X_data, Y_data, model, criterion, batch_size):\n",
    "    model.eval()\n",
    "    total_loss = 0\n",
    "    n_samples = 0\n",
    "    predict = None\n",
    "    test = None\n",
    "    for X, Y in data.get_batches(X_data, Y_data, batch_size, False):\n",
    "        output = model(X[:,:, input_dim*3:], X[:,:,:input_dim], X[:,:,input_dim:input_dim*2], X[:,:,input_dim*2:input_dim*3])\n",
    "        if predict is None:\n",
    "            predict = output\n",
    "            test = Y\n",
    "        else:\n",
    "            predict = torch.cat((predict, output))\n",
    "            test = torch.cat((test, Y))\n",
    "        \n",
    "        # Y = torch.tensor(Y, dtype=torch.long).clone().cuda().squeeze()\n",
    "        Y = Y.long().resize(Y.size()[0])\n",
    "        total_loss += float(criterion(output, Y))\n",
    "        # n_samples += (output.size(0) * data.m)\n",
    "        n_samples += (output.size(0) * 1)\n",
    "    val_loss_list.append(total_loss / n_samples)\n",
    "    return total_loss/n_samples"
   ]
  },
  {
   "cell_type": "code",
   "execution_count": 22,
   "metadata": {},
   "outputs": [],
   "source": [
    "def train(data, X_data, Y_data, model, criterion, optim, batch_size):\n",
    "    model.train()\n",
    "    total_loss = 0\n",
    "    n_samples = 0\n",
    "    for X, Y in data.get_batches(X_data, Y_data, batch_size, True):\n",
    "        model.zero_grad()\n",
    "        output = model(X[:,:, input_dim*3:], X[:,:,:input_dim], X[:,:,input_dim:input_dim*2], X[:,:,input_dim*2:input_dim*3])\n",
    "\n",
    "        # Y = torch.as_tensor(Y, dtype=torch.long).cuda().squeeze()\n",
    "#         print(output.shape,Y.shape)\n",
    "        # print(output,Y)\n",
    "        Y = Y.long().resize(Y.size()[0])\n",
    "        loss = criterion(output, Y)\n",
    "        loss.backward()\n",
    "        optim.step()\n",
    "        total_loss += float(loss.data)  # adjust\n",
    "        n_samples += (output.size(0) * 1)\n",
    "    train_loss_list.append(total_loss / n_samples)\n",
    "    return total_loss / n_samples"
   ]
  },
  {
   "cell_type": "code",
   "execution_count": 23,
   "metadata": {},
   "outputs": [
    {
     "name": "stdout",
     "output_type": "stream",
     "text": [
      "(5970, 57)\n",
      "1 0.017300490823566404 0.017694201900731378\n",
      "2 0.017286619365724742 0.01767749109459882\n",
      "3 0.017281738285325532 0.01767067561796562\n",
      "4 0.01727720755797166 0.017665314374856612\n",
      "5 0.01727396590077979 0.017659336358458552\n",
      "6 0.01727186467912462 0.017656714832363415\n",
      "7 0.017268168416797604 0.01765077503482301\n",
      "8 0.017266072819375585 0.01764673887185715\n",
      "9 0.017263778988112752 0.017643250352773233\n",
      "10 0.017261549081557838 0.01764045372680204\n",
      "11 0.017260292167337533 0.01763558597420927\n",
      "12 0.017256821118868313 0.017633996956312476\n",
      "13 0.017256013980278602 0.017631498113948495\n",
      "14 0.0172541790538364 0.017626448132883964\n",
      "15 0.01725139984717736 0.01762503337620491\n",
      "16 0.01724942818666116 0.017621935492184892\n",
      "17 0.01724587599436442 0.017619399688950734\n",
      "18 0.017246887765379033 0.017615156017955224\n",
      "19 0.017244446114597158 0.01761180006678979\n",
      "20 0.017241892835013886 0.017608973428831626\n"
     ]
    },
    {
     "data": {
      "image/png": "[encoded data removed]",
      "text/plain": [
       "<Figure size 432x288 with 1 Axes>"
      ]
     },
     "metadata": {
      "needs_background": "light"
     },
     "output_type": "display_data"
    },
    {
     "name": "stdout",
     "output_type": "stream",
     "text": [
      "{0: [638, 427], 1: [697, 3], 2: [655, 273]}\n"
     ]
    }
   ],
   "source": [
    "Data = Data_utility('./data/stock.txt', 0.6, 0.2, True, 1, 1)\n",
    "for epoch in range(1,num_epochs+1):\n",
    "#     print(Data.train[0].shape,Data.train[1].shape)\n",
    "    train_loss = train(Data, Data.train[0], Data.train[1], model, criterion, optimizer, batch_size)\n",
    "    val_loss = evaluate(Data, Data.valid[0], Data.\n",
    "                        valid[1], model, criterion, batch_size)\n",
    "#     if epoch % 10 == 0:\n",
    "    print(epoch,train_loss,val_loss)\n",
    "loss_graph()\n",
    "test(Data, Data.valid[0], Data.valid[1], model, batch_size)\n",
    "# test_loss = evaluate(Data, Data.test[0], Data.test[1], model, criterion, batch_size)\n",
    "# print(test_loss)\n",
    "\n",
    "\n"
   ]
  },
  {
   "cell_type": "code",
   "execution_count": null,
   "metadata": {},
   "outputs": [],
   "source": [
    "test(Data, Data.valid[0], Data.valid[1], model, batch_size)"
   ]
  }
 ],
 "metadata": {
  "kernelspec": {
   "display_name": "Python 3",
   "language": "python",
   "name": "python3"
  },
  "language_info": {
   "codemirror_mode": {
    "name": "ipython",
    "version": 3
   },
   "file_extension": ".py",
   "mimetype": "text/x-python",
   "name": "python",
   "nbconvert_exporter": "python",
   "pygments_lexer": "ipython3",
   "version": "3.6.9"
  }
 },
 "nbformat": 4,
 "nbformat_minor": 4
}
